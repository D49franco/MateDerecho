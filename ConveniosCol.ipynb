{
 "cells": [
  {
   "cell_type": "code",
   "execution_count": 1,
   "metadata": {},
   "outputs": [
    {
     "data": {
      "text/html": [
       "<H1>@ConveniosCol:</H1><br><p>El siguiente aplicativo muestra los convenios que tiene determinado establecimiento. Puedes buscar por convenio o por establecimiento.</p>"
      ],
      "text/plain": [
       "<IPython.core.display.HTML object>"
      ]
     },
     "metadata": {},
     "output_type": "display_data"
    },
    {
     "data": {
      "text/html": [
       "Hecho por David Andrés Franco Quintero"
      ],
      "text/plain": [
       "<IPython.core.display.HTML object>"
      ]
     },
     "metadata": {},
     "output_type": "display_data"
    },
    {
     "data": {
      "application/vnd.jupyter.widget-view+json": {
       "model_id": "1d84e5e913fb4612ae1258e9be264c8e",
       "version_major": 2,
       "version_minor": 0
      },
      "text/plain": [
       "interactive(children=(Select(description='Elige un establecimiento', layout=Layout(height='auto', width='600px…"
      ]
     },
     "metadata": {},
     "output_type": "display_data"
    },
    {
     "data": {
      "text/plain": [
       "<function __main__.buscador(establecimiento, convenio)>"
      ]
     },
     "execution_count": 1,
     "metadata": {},
     "output_type": "execute_result"
    }
   ],
   "source": [
    "import pandas as pd\n",
    "import numpy as np\n",
    "from IPython.core.display import HTML, display\n",
    "import ipywidgets as widgets\n",
    "from ipywidgets import interact, interactive, Layout\n",
    "\n",
    "\n",
    "display(HTML(\"<H1>@ConveniosCol:</H1><br><p>El siguiente aplicativo muestra los convenios que tiene determinado establecimiento. Puedes buscar por convenio o por establecimiento.</p>\"))\n",
    "display(HTML(\"Hecho por David Andrés Franco Quintero\"))\n",
    "\n",
    "df=pd.DataFrame(pd.read_excel(\"matriz_fidela.xlsx\",encoding=\"latin1\"))\n",
    "establecimientos=list(df[\"ESTABLECIMIENTOS\"])\n",
    "convenios=list(df.columns)\n",
    "convenios.remove(\"ESTABLECIMIENTOS\")\n",
    "\n",
    "def buscador(establecimiento, convenio):\n",
    "    establecimiento=str(establecimiento)\n",
    "    convenio=str(convenio)\n",
    "    pd.set_option('display.max_rows',1000) \n",
    "    \n",
    "        \n",
    "    fila=df[df[\"ESTABLECIMIENTOS\"]==establecimiento]  ## así hago que busque \"ADVENIO\" en \"ESTABLECIMIENTOS\" y me muestra la fila indicada\n",
    "    display(fila)\n",
    "    columna=df[[\"ESTABLECIMIENTOS\",convenio]] ##muestra las dos columnas pedidas\n",
    "    display(columna)\n",
    "\n",
    "    \n",
    "\n",
    "\n",
    "style = {'description_width': 'initial',}\n",
    "l = Layout( height='auto', width='600px')\n",
    "wide=widgets.Select(options=establecimientos,description=\"Elige un establecimiento\",style=style,layout=l)\n",
    "widc=widgets.Select(options=convenios,description=\"Elige un convenio\",style=style,layout=l)\n",
    "interact(buscador,establecimiento=wide,convenio=widc)\n",
    "\n",
    "\n",
    "\n",
    "\n",
    "#buscador(\"ADVENIO\",\"COMPENSAR\")\n"
   ]
  },
  {
   "cell_type": "code",
   "execution_count": null,
   "metadata": {},
   "outputs": [],
   "source": []
  }
 ],
 "metadata": {
  "kernelspec": {
   "display_name": "Python 3",
   "language": "python",
   "name": "python3"
  },
  "language_info": {
   "codemirror_mode": {
    "name": "ipython",
    "version": 3
   },
   "file_extension": ".py",
   "mimetype": "text/x-python",
   "name": "python",
   "nbconvert_exporter": "python",
   "pygments_lexer": "ipython3",
   "version": "3.7.3"
  },
  "latex_envs": {
   "LaTeX_envs_menu_present": true,
   "autoclose": false,
   "autocomplete": true,
   "bibliofile": "biblio.bib",
   "cite_by": "apalike",
   "current_citInitial": 1,
   "eqLabelWithNumbers": true,
   "eqNumInitial": 1,
   "hotkeys": {
    "equation": "Ctrl-E",
    "itemize": "Ctrl-I"
   },
   "labels_anchors": false,
   "latex_user_defs": false,
   "report_style_numbering": false,
   "user_envs_cfg": false
  },
  "toc": {
   "base_numbering": 1,
   "nav_menu": {},
   "number_sections": true,
   "sideBar": true,
   "skip_h1_title": false,
   "title_cell": "Table of Contents",
   "title_sidebar": "Contents",
   "toc_cell": false,
   "toc_position": {},
   "toc_section_display": true,
   "toc_window_display": false
  }
 },
 "nbformat": 4,
 "nbformat_minor": 2
}
