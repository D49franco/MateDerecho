{
 "cells": [
  {
   "cell_type": "code",
   "execution_count": 2,
   "metadata": {},
   "outputs": [
    {
     "data": {
      "text/html": [
       " <div style=\"background-color: #023324; \"><p><br></p>     <img src=\"https://www.uexternado.edu.co/wp-content/themes/externado_theme/images/logo-uec.svg\" alt=\"Universidad Externado\" width=\"150\" align=\"left\">  <h1  style=\"color: white;font-family:Lucida Sans Unicode, Lucida Grande, sans-serif\" align=\"center\">Clase 3: Razón de cambio y funciones</h1> <p><br></p></div>"
      ],
      "text/plain": [
       "<IPython.core.display.HTML object>"
      ]
     },
     "metadata": {},
     "output_type": "display_data"
    }
   ],
   "source": [
    "from IPython.core.display import HTML, display\n",
    "encabezado=display(HTML(' <div style=\"background-color: #023324; \"><p>'+\n",
    "             '<br></p>     <img src=\"https://www.uexternado.edu.co/wp-content/themes/externado_theme/images/logo-uec.svg\" alt=\"Universidad Externado\" width=\"150\" align=\"left\">  '+\n",
    "             '<h1  style=\"color: white;font-family:Lucida Sans Unicode, Lucida Grande, sans-serif\" align=\"center\">Clase 3: Razón de cambio y funciones</h1> '+\n",
    "             '<p><br></p></div>'))"
   ]
  },
  {
   "cell_type": "markdown",
   "metadata": {},
   "source": [
    "**Profesor: David Andrés Franco Quintero**\n",
    "\n",
    "**Materia: Matemáticas para Derecho**"
   ]
  },
  {
   "cell_type": "markdown",
   "metadata": {},
   "source": [
    "# Razón de cambio"
   ]
  },
  {
   "cell_type": "markdown",
   "metadata": {},
   "source": [
    "## Definición:"
   ]
  },
  {
   "cell_type": "markdown",
   "metadata": {},
   "source": [
    "Una razón de cambio es una manera de comparar, de forma relativa, dos cambios en dos magnitudes. En otras palabras, a través de una divisón se mide qué tanto varía una magnitud, cuando otra cambia. Existe pues una variable dependiente que cambia cuando la independiente lo hace. En general, una razón de cambio se calcula como sigue:"
   ]
  },
  {
   "cell_type": "code",
   "execution_count": 2,
   "metadata": {},
   "outputs": [
    {
     "data": {
      "image/png": "[encoded data removed]",
      "text/latex": [
       "$$\\frac{ΔDep}{ΔInd} = \\frac{- Dep_{1} + Dep_{2}}{- Ind_{1} + Ind_{2}}$$"
      ],
      "text/plain": [
       "ΔDep   -Dep₁ + Dep₂\n",
       "──── = ────────────\n",
       "ΔInd   -Ind₁ + Ind₂"
      ]
     },
     "execution_count": 2,
     "metadata": {},
     "output_type": "execute_result"
    }
   ],
   "source": [
    "import sympy as sp\n",
    "from sympy import init_printing\n",
    "import pandas as pd\n",
    "init_printing()\n",
    "Dep1=sp.symbols(\"Dep1\")\n",
    "Dep2=sp.symbols(\"Dep2\")\n",
    "Ind1=sp.symbols(\"Ind1\")\n",
    "Ind2=sp.symbols(\"Ind2\")\n",
    "ddep=sp.symbols(\"ΔDep\")\n",
    "dind=sp.symbols(\"ΔInd\")\n",
    "sp.Eq(ddep/dind,(Dep2-Dep1)/(Ind2-Ind1))"
   ]
  },
  {
   "cell_type": "markdown",
   "metadata": {},
   "source": [
    "## Características"
   ]
  },
  {
   "cell_type": "markdown",
   "metadata": {},
   "source": [
    "1. Si la razón de cambio es positiva, quiere decir que ambas cantidades están relacionadas de forma directa (cuando aumenta la independiente, también lo hace la dependiente; y viceversa). A su vez, la gráfica va a hacia arriba. Dé un ejemplo.\n",
    "2. Si la razón de cambio es negativa, quiere decir que ambas cantidades están relacionadas de forma indirecta (cuando aumenta la variable independiente, disminuye la variable dependiente; y viceversa). A su vez, la gráfica va hacia abajo. Dé un ejemplo.\n",
    "3. Si el número de la razón de cambio (sin considerar el signo) es mayor a 1, entonces el cambio de la variable independiente es menor al respectivo cambio de la variable dependiente (el denominador es menor al numerador). Entre mayor sea el número, la gráfica es más empinada. Dé un ejemplo que lo compruebe. Pregunta: ¿es posible una línea totalmente vertical?\n",
    "4. Si el número de la razón de cambio (sin considerar el signo) es menor a 1, entonces el cambio de la variable independiente es mayor al respectivo cambio de la variable dependiente (el denominador es mayor al numerador). Entre más se acerque a 0, la gráfica será más acostada. Dé un ejemplo que lo compruebe. Pregunta: ¿es posible una línea totalmente horizontal?\n",
    "5. Si el número de la razón de cambio (sin considerar el signo) es igual a 1, entonces el cambio de la variable independiente es igual al respectivo cambio de la variable dependiente (el denominador es igual al numerador). Al ser igual a 1, la línea se encontrará en un ángulo de 45°. Dé un ejemplo que lo compruebe."
   ]
  },
  {
   "cell_type": "markdown",
   "metadata": {},
   "source": [
    "## Graficador y solucionador"
   ]
  },
  {
   "cell_type": "markdown",
   "metadata": {},
   "source": [
    "A continuación se propone un graficador de puntos. Así, se brinda la razón de cambio entre esos dos puntos dados."
   ]
  },
  {
   "cell_type": "code",
   "execution_count": 3,
   "metadata": {},
   "outputs": [
    {
     "data": {
      "application/vnd.jupyter.widget-view+json": {
       "model_id": "a62c272809b74904a6bfe9dde3818ee9",
       "version_major": 2,
       "version_minor": 0
      },
      "text/plain": [
       "interactive(children=(FloatText(value=0.0, description='Ind1'), FloatText(value=0.0, description='Ind2'), Floa…"
      ]
     },
     "metadata": {},
     "output_type": "display_data"
    }
   ],
   "source": [
    "import numpy as np\n",
    "import sympy as sp\n",
    "import matplotlib.pyplot as plt\n",
    "from sympy import *\n",
    "from sympy import init_printing\n",
    "init_printing()\n",
    "import ipywidgets as widgets\n",
    "from ipywidgets import interact, interactive\n",
    "\n",
    "def graficador(ind1,ind2,dep1,dep2):\n",
    "    razon=(dep2-dep1)/(ind2-ind1)\n",
    "    print(\"El cambio en la variable dependiente es {}\".format(dep2-dep1))\n",
    "    print()\n",
    "    print(\"El cambio en la variable independiente es {}\".format(ind2-ind1))\n",
    "    print()\n",
    "    print(\"La razón de cambio es {}\".format(razon))\n",
    "    fig=plt.figure()\n",
    "    ax = fig.add_subplot(111)\n",
    "    ax.plot([ind1,ind2], [dep1,dep2], color='blue', linewidth=3, label=\"{}{}\")\n",
    "    plt.xlim(0,max(ind1,ind2)+20)\n",
    "    plt.ylim(0,max(dep2,dep1)+20)\n",
    "    \n",
    "widi1=widgets.FloatText(description=\"Ind1\")\n",
    "widi2=widgets.FloatText(description=\"Ind2\")\n",
    "widd1=widgets.FloatText(description=\"Dep1\")\n",
    "widd2=widgets.FloatText(description=\"Dep2\")\n",
    "interactive(graficador,ind1=widi1,dep1=widd1,ind2=widi2,dep2=widd2)\n"
   ]
  },
  {
   "cell_type": "markdown",
   "metadata": {},
   "source": [
    "# Función"
   ]
  },
  {
   "cell_type": "markdown",
   "metadata": {},
   "source": [
    "## Una aproximación"
   ]
  },
  {
   "cell_type": "markdown",
   "metadata": {},
   "source": [
    "Una función... pues podría darse una definición formal, pero dejemos que sea la Licenciada María Inés Baragatti la que nos explique qué es un función"
   ]
  },
  {
   "cell_type": "code",
   "execution_count": 92,
   "metadata": {},
   "outputs": [
    {
     "data": {
      "text/html": [
       "<div><h2>¿Qué es una función? <hr> </h2><iframe width=\"560\" height=\"315\" src=\"https://www.youtube.com/embed/eViT5wKoN-Q\" frameborder=\"0\" allow=\"accelerometer; autoplay; encrypted-media; gyroscope; picture-in-picture\" allowfullscreen></iframe>"
      ],
      "text/plain": [
       "<IPython.core.display.HTML object>"
      ]
     },
     "metadata": {},
     "output_type": "display_data"
    }
   ],
   "source": [
    "from IPython.core.display import HTML, display\n",
    "import sympy as sp\n",
    "from sympy import init_printing\n",
    "display(HTML(\"<div><h2>¿Qué es una función? <hr> </h2>\"+'<iframe width=\"560\" height=\"315\" src=\"https://www.youtube.com/embed/eViT5wKoN-Q\" frameborder=\"0\" allow=\"accelerometer; autoplay; encrypted-media; gyroscope; picture-in-picture\" allowfullscreen></iframe>'))"
   ]
  },
  {
   "cell_type": "markdown",
   "metadata": {},
   "source": [
    "## Explicación de la definición"
   ]
  },
  {
   "cell_type": "markdown",
   "metadata": {},
   "source": [
    "Una función puede entenderse como una máquina. Así, se le ingresa un valor \"x\", ella lo transforma en algo y se obtiene un resultado \"y\" (también se entiende a \"y\" como f(x))."
   ]
  },
  {
   "cell_type": "markdown",
   "metadata": {},
   "source": [
    "### Ejemplo"
   ]
  },
  {
   "cell_type": "markdown",
   "metadata": {},
   "source": [
    "Sí tenemos una función:"
   ]
  },
  {
   "cell_type": "markdown",
   "metadata": {},
   "source": [
    "f(x)=2x+5"
   ]
  },
  {
   "cell_type": "markdown",
   "metadata": {},
   "source": [
    "Quiere decir que la función toma valores de x y los transforma, primero multiplicando ese valor x por 2 y luego sumándole 5. De esta manera, para cada valor de x le corresponde un valor f(x), que sería el resultado de evaluar a x en la función. "
   ]
  },
  {
   "cell_type": "code",
   "execution_count": 107,
   "metadata": {},
   "outputs": [
    {
     "data": {
      "text/html": [
       "<div>\n",
       "<style scoped>\n",
       "    .dataframe tbody tr th:only-of-type {\n",
       "        vertical-align: middle;\n",
       "    }\n",
       "\n",
       "    .dataframe tbody tr th {\n",
       "        vertical-align: top;\n",
       "    }\n",
       "\n",
       "    .dataframe thead th {\n",
       "        text-align: right;\n",
       "    }\n",
       "</style>\n",
       "<table border=\"1\" class=\"dataframe\">\n",
       "  <thead>\n",
       "    <tr style=\"text-align: right;\">\n",
       "      <th></th>\n",
       "      <th>x</th>\n",
       "      <th>f(x)</th>\n",
       "    </tr>\n",
       "  </thead>\n",
       "  <tbody>\n",
       "    <tr>\n",
       "      <th>0</th>\n",
       "      <td>-2</td>\n",
       "      <td>1</td>\n",
       "    </tr>\n",
       "    <tr>\n",
       "      <th>1</th>\n",
       "      <td>-1</td>\n",
       "      <td>3</td>\n",
       "    </tr>\n",
       "    <tr>\n",
       "      <th>2</th>\n",
       "      <td>0</td>\n",
       "      <td>5</td>\n",
       "    </tr>\n",
       "    <tr>\n",
       "      <th>3</th>\n",
       "      <td>1</td>\n",
       "      <td>7</td>\n",
       "    </tr>\n",
       "    <tr>\n",
       "      <th>4</th>\n",
       "      <td>2</td>\n",
       "      <td>9</td>\n",
       "    </tr>\n",
       "  </tbody>\n",
       "</table>\n",
       "</div>"
      ],
      "text/plain": [
       "   x  f(x)\n",
       "0 -2     1\n",
       "1 -1     3\n",
       "2  0     5\n",
       "3  1     7\n",
       "4  2     9"
      ]
     },
     "execution_count": 107,
     "metadata": {},
     "output_type": "execute_result"
    }
   ],
   "source": [
    "valores=np.array([[-2,1],[-1,3],[0,5],[1,7],[2,9]])\n",
    "columnas=[\"x\",\"f(x)\"]\n",
    "tabla=pd.DataFrame(valores,columns=columnas)\n",
    "tabla\n"
   ]
  },
  {
   "cell_type": "markdown",
   "metadata": {},
   "source": [
    "## Característica primordial"
   ]
  },
  {
   "cell_type": "markdown",
   "metadata": {},
   "source": [
    "Para que una función sea una función se requiere que un valor de x no pueda dar más de un valor en f(x). En otras palabras, para cada valor x existe un único valor f(x)."
   ]
  },
  {
   "cell_type": "markdown",
   "metadata": {},
   "source": [
    "### Ejemplo"
   ]
  },
  {
   "cell_type": "markdown",
   "metadata": {},
   "source": [
    "¿Puedes determinar cuál de estas tres tablas no representa puntos de una función y cuáles no?"
   ]
  },
  {
   "cell_type": "code",
   "execution_count": 108,
   "metadata": {},
   "outputs": [
    {
     "data": {
      "text/html": [
       "<div>\n",
       "<style scoped>\n",
       "    .dataframe tbody tr th:only-of-type {\n",
       "        vertical-align: middle;\n",
       "    }\n",
       "\n",
       "    .dataframe tbody tr th {\n",
       "        vertical-align: top;\n",
       "    }\n",
       "\n",
       "    .dataframe thead th {\n",
       "        text-align: right;\n",
       "    }\n",
       "</style>\n",
       "<table border=\"1\" class=\"dataframe\">\n",
       "  <thead>\n",
       "    <tr style=\"text-align: right;\">\n",
       "      <th></th>\n",
       "      <th>x</th>\n",
       "      <th>f(x)</th>\n",
       "    </tr>\n",
       "  </thead>\n",
       "  <tbody>\n",
       "    <tr>\n",
       "      <th>0</th>\n",
       "      <td>-2</td>\n",
       "      <td>4</td>\n",
       "    </tr>\n",
       "    <tr>\n",
       "      <th>1</th>\n",
       "      <td>-1</td>\n",
       "      <td>3</td>\n",
       "    </tr>\n",
       "    <tr>\n",
       "      <th>2</th>\n",
       "      <td>0</td>\n",
       "      <td>5</td>\n",
       "    </tr>\n",
       "    <tr>\n",
       "      <th>3</th>\n",
       "      <td>1</td>\n",
       "      <td>7</td>\n",
       "    </tr>\n",
       "    <tr>\n",
       "      <th>4</th>\n",
       "      <td>2</td>\n",
       "      <td>9</td>\n",
       "    </tr>\n",
       "  </tbody>\n",
       "</table>\n",
       "</div>"
      ],
      "text/plain": [
       "   x  f(x)\n",
       "0 -2     4\n",
       "1 -1     3\n",
       "2  0     5\n",
       "3  1     7\n",
       "4  2     9"
      ]
     },
     "execution_count": 108,
     "metadata": {},
     "output_type": "execute_result"
    }
   ],
   "source": [
    "valores=np.array([[-2,4],[-1,3],[0,5],[1,7],[2,9]])\n",
    "columnas=[\"x\",\"f(x)\"]\n",
    "tabla=pd.DataFrame(valores,columns=columnas)\n",
    "tabla"
   ]
  },
  {
   "cell_type": "code",
   "execution_count": 4,
   "metadata": {},
   "outputs": [
    {
     "data": {
      "application/vnd.jupyter.widget-view+json": {
       "model_id": "20e81097e84e494099b06144d16866d3",
       "version_major": 2,
       "version_minor": 0
      },
      "text/plain": [
       "interactive(children=(Select(description='Pregunta 1', options=('Elige una opción', 'Sí es función', 'No es fu…"
      ]
     },
     "metadata": {},
     "output_type": "display_data"
    },
    {
     "data": {
      "text/plain": [
       "<function __main__.pregunta(opcion)>"
      ]
     },
     "execution_count": 4,
     "metadata": {},
     "output_type": "execute_result"
    }
   ],
   "source": [
    "def pregunta(opcion):\n",
    "    if opcion==\"Sí es función\":\n",
    "        print(\"Efectivamente, se trata de una función porque a cada valor de x le corresponde un sólo valor de f(x)\")\n",
    "    elif opcion==\"No es función\":\n",
    "        print(\"No es correcto. En este caso sí se trata de una función porque a cada valor de x le corresponde un sólo valor de f(x)\")\n",
    "    elif opcion==\"Elige una opción\":\n",
    "        print(\"Elige \\'Sí es función' o \\'No es función'\")\n",
    "wid=widgets.Select(options=[\"Elige una opción\",\"Sí es función\",\"No es función\"],description=\"Pregunta 1\")\n",
    "interact(pregunta,opcion=wid)"
   ]
  },
  {
   "cell_type": "code",
   "execution_count": 109,
   "metadata": {},
   "outputs": [
    {
     "data": {
      "text/html": [
       "<div>\n",
       "<style scoped>\n",
       "    .dataframe tbody tr th:only-of-type {\n",
       "        vertical-align: middle;\n",
       "    }\n",
       "\n",
       "    .dataframe tbody tr th {\n",
       "        vertical-align: top;\n",
       "    }\n",
       "\n",
       "    .dataframe thead th {\n",
       "        text-align: right;\n",
       "    }\n",
       "</style>\n",
       "<table border=\"1\" class=\"dataframe\">\n",
       "  <thead>\n",
       "    <tr style=\"text-align: right;\">\n",
       "      <th></th>\n",
       "      <th>x</th>\n",
       "      <th>f(x)</th>\n",
       "    </tr>\n",
       "  </thead>\n",
       "  <tbody>\n",
       "    <tr>\n",
       "      <th>0</th>\n",
       "      <td>-2</td>\n",
       "      <td>4</td>\n",
       "    </tr>\n",
       "    <tr>\n",
       "      <th>1</th>\n",
       "      <td>-2</td>\n",
       "      <td>3</td>\n",
       "    </tr>\n",
       "    <tr>\n",
       "      <th>2</th>\n",
       "      <td>0</td>\n",
       "      <td>5</td>\n",
       "    </tr>\n",
       "    <tr>\n",
       "      <th>3</th>\n",
       "      <td>1</td>\n",
       "      <td>7</td>\n",
       "    </tr>\n",
       "    <tr>\n",
       "      <th>4</th>\n",
       "      <td>2</td>\n",
       "      <td>9</td>\n",
       "    </tr>\n",
       "  </tbody>\n",
       "</table>\n",
       "</div>"
      ],
      "text/plain": [
       "   x  f(x)\n",
       "0 -2     4\n",
       "1 -2     3\n",
       "2  0     5\n",
       "3  1     7\n",
       "4  2     9"
      ]
     },
     "execution_count": 109,
     "metadata": {},
     "output_type": "execute_result"
    }
   ],
   "source": [
    "valores=np.array([[-2,4],[-2,3],[0,5],[1,7],[2,9]])\n",
    "columnas=[\"x\",\"f(x)\"]\n",
    "tabla=pd.DataFrame(valores,columns=columnas)\n",
    "tabla"
   ]
  },
  {
   "cell_type": "code",
   "execution_count": 132,
   "metadata": {},
   "outputs": [
    {
     "data": {
      "application/vnd.jupyter.widget-view+json": {
       "model_id": "0fdfe63eb8aa45989b232500b4c4af96",
       "version_major": 2,
       "version_minor": 0
      },
      "text/plain": [
       "interactive(children=(Select(description='Pregunta 2', options=('Elige una opción', 'Sí es función', 'No es fu…"
      ]
     },
     "metadata": {},
     "output_type": "display_data"
    },
    {
     "data": {
      "text/plain": [
       "<function __main__.pregunta(opcion)>"
      ]
     },
     "execution_count": 132,
     "metadata": {},
     "output_type": "execute_result"
    }
   ],
   "source": [
    "def pregunta(opcion):\n",
    "    if opcion==\"Sí es función\":\n",
    "        print(\"No es correcto. En este caso a un valor de x (-2) le corresponden dos salidas en f(x) (4 y 3), lo cual hace que ya no sea una función.\")\n",
    "    elif opcion==\"No es función\":\n",
    "        print(\"Correcto. En este caso a un valor de x (-2) le corresponden dos salidas en f(x) (4,3), lo cual hace que ya no sea una función.\")\n",
    "    elif opcion==\"Elige una opción\":\n",
    "        print(\"Elige \\'Sí es función' o \\'No es función'\")\n",
    "wid=widgets.Select(options=[\"Elige una opción\",\"Sí es función\",\"No es función\"],description=\"Pregunta 2\")\n",
    "interact(pregunta,opcion=wid)"
   ]
  },
  {
   "cell_type": "code",
   "execution_count": 122,
   "metadata": {},
   "outputs": [
    {
     "data": {
      "text/html": [
       "<div>\n",
       "<style scoped>\n",
       "    .dataframe tbody tr th:only-of-type {\n",
       "        vertical-align: middle;\n",
       "    }\n",
       "\n",
       "    .dataframe tbody tr th {\n",
       "        vertical-align: top;\n",
       "    }\n",
       "\n",
       "    .dataframe thead th {\n",
       "        text-align: right;\n",
       "    }\n",
       "</style>\n",
       "<table border=\"1\" class=\"dataframe\">\n",
       "  <thead>\n",
       "    <tr style=\"text-align: right;\">\n",
       "      <th></th>\n",
       "      <th>x</th>\n",
       "      <th>f(x)</th>\n",
       "    </tr>\n",
       "  </thead>\n",
       "  <tbody>\n",
       "    <tr>\n",
       "      <th>0</th>\n",
       "      <td>-2</td>\n",
       "      <td>4</td>\n",
       "    </tr>\n",
       "    <tr>\n",
       "      <th>1</th>\n",
       "      <td>-1</td>\n",
       "      <td>4</td>\n",
       "    </tr>\n",
       "    <tr>\n",
       "      <th>2</th>\n",
       "      <td>0</td>\n",
       "      <td>5</td>\n",
       "    </tr>\n",
       "    <tr>\n",
       "      <th>3</th>\n",
       "      <td>1</td>\n",
       "      <td>7</td>\n",
       "    </tr>\n",
       "    <tr>\n",
       "      <th>4</th>\n",
       "      <td>2</td>\n",
       "      <td>9</td>\n",
       "    </tr>\n",
       "  </tbody>\n",
       "</table>\n",
       "</div>"
      ],
      "text/plain": [
       "   x  f(x)\n",
       "0 -2     4\n",
       "1 -1     4\n",
       "2  0     5\n",
       "3  1     7\n",
       "4  2     9"
      ]
     },
     "execution_count": 122,
     "metadata": {},
     "output_type": "execute_result"
    }
   ],
   "source": [
    "valores=np.array([[-2,4],[-1,4],[0,5],[1,7],[2,9]])\n",
    "columnas=[\"x\",\"f(x)\"]\n",
    "tabla=pd.DataFrame(valores,columns=columnas)\n",
    "tabla"
   ]
  },
  {
   "cell_type": "code",
   "execution_count": 133,
   "metadata": {},
   "outputs": [
    {
     "data": {
      "application/vnd.jupyter.widget-view+json": {
       "model_id": "ba4aab86f14e4755a6adbb22cb5214b3",
       "version_major": 2,
       "version_minor": 0
      },
      "text/plain": [
       "interactive(children=(Select(description='Pregunta 3', options=('Elige una opción', 'Sí es función', 'No es fu…"
      ]
     },
     "metadata": {},
     "output_type": "display_data"
    },
    {
     "data": {
      "text/plain": [
       "<function __main__.pregunta(opcion)>"
      ]
     },
     "execution_count": 133,
     "metadata": {},
     "output_type": "execute_result"
    }
   ],
   "source": [
    "def pregunta(opcion):\n",
    "    if opcion==\"Sí es función\":\n",
    "        print(\"Correcto. En este caso, a pesar de que un valor de f(x) de 4 proviene de dos valores de x (-2 y -1), se cumple la regla de que a cada valor de x le corresponde un único valor en f(x)\")\n",
    "    elif opcion==\"No es función\":  \n",
    "        print(\"Incorrecto. En este caso, a pesar de que un valor de f(x) de 4 proviene de dos valores de x (-2 y -1), se cumple la regla de que a cada valor de x le corresponde un único valor en f(x)\")\n",
    "    elif opcion==\"Elige una opción\":\n",
    "        print(\"Elige \\'Sí es función' o \\'No es función'\")\n",
    "wid=widgets.Select(options=[\"Elige una opción\",\"Sí es función\",\"No es función\"],description=\"Pregunta 3\")\n",
    "interact(pregunta,opcion=wid)"
   ]
  },
  {
   "cell_type": "markdown",
   "metadata": {},
   "source": [
    "**Nota**: Si una relación cumple que para cada valor de x hay un único valor de f(x), entonces estamos ante una función. Si además cumple que cada valor de f(x) sólo puede provenir de un único valor de x, entonces estamos ante una función punto a punto."
   ]
  },
  {
   "cell_type": "markdown",
   "metadata": {},
   "source": [
    "### Manera fácil de saber si es una función"
   ]
  },
  {
   "cell_type": "markdown",
   "metadata": {},
   "source": [
    "Una manera fácil de saber si una relación es una función es graficarla en un plano cartesiano y comprobar si pasa la *prueba de la recta vertical*. Esta prueba consiste en que si se puede dibujar una línea vertical que toca dos o más veces a la gráfica, entonces no es una función. Esto se explica porque si la característica de una función es que para cada valor de x hay un único valor en f(x), entonces al graficarla no es posible que para determinado valor en x haya dos referencias en f(x). Si las hubiese, esas dos referencias estarían una encima de la otra, por lo cual abrirían la posibilidad de que una recta vertical dibujada las atravesase. Lo invitamos a que haga una gráfica y compruebe lo que se ha dicho en este párrafo."
   ]
  },
  {
   "cell_type": "markdown",
   "metadata": {},
   "source": [
    "## Función lineal y razón de cambio"
   ]
  },
  {
   "cell_type": "markdown",
   "metadata": {},
   "source": [
    "Cuando estamos ante una función lineal (el grado máximo de la x es 1, o cuando se representa en una gráfica aparece una línea recta), nos encontramos que tiene la estructura:"
   ]
  },
  {
   "cell_type": "code",
   "execution_count": 142,
   "metadata": {},
   "outputs": [
    {
     "data": {
      "image/png": "[encoded data removed]",
      "text/latex": [
       "$$y = b + mx$$"
      ],
      "text/plain": [
       "y = b + mx"
      ]
     },
     "execution_count": 142,
     "metadata": {},
     "output_type": "execute_result"
    }
   ],
   "source": [
    "mx=sp.symbols(\"mx\")\n",
    "b=sp.symbols(\"b\")\n",
    "y=sp.symbols(\"y\")\n",
    "m=sp.symbols(\"m\")\n",
    "sp.Eq(y,mx+b)"
   ]
  },
  {
   "cell_type": "markdown",
   "metadata": {},
   "source": [
    "Pues bien, \"y\" es el mismo f(x); \"m\" es la pendiente que es la misma razón de cambio entre \"x\" (como independiente) y \"y\" (como dependiente); y \"b\" es el punto de corte con el eje dependiente (es decir, cuando x vale 0, y es igual a b). Con esta función se pueden elaborar distintas aplicaciones tales como escenarios de oferta y demanda, y de costos, ingresos y ganancias."
   ]
  },
  {
   "cell_type": "markdown",
   "metadata": {},
   "source": [
    "## ¿Cómo hallar la función lineal de una relación lineal?"
   ]
  },
  {
   "cell_type": "markdown",
   "metadata": {},
   "source": [
    "**Paso 1:** Nos dan mínimo dos puntos de esa relación (por un punto pueden pasar infinitas líneas rectas, por dos puntos sólo puede pasar una) y establecemos las variables independientes y las variables dependientes.\n",
    "\n",
    "**Paso 2:** Efectuamos la *ecuación punto - punto* o *pendiente* (que es la misma fórmula de la razón de cambio) con los 2 puntos dados (por eso se llama *punto - punto*)."
   ]
  },
  {
   "cell_type": "code",
   "execution_count": 147,
   "metadata": {},
   "outputs": [
    {
     "data": {
      "image/png": "[encoded data removed]",
      "text/latex": [
       "$$m = \\frac{- Dep_{1} + Dep_{2}}{- Ind_{1} + Ind_{2}}$$"
      ],
      "text/plain": [
       "    -Dep₁ + Dep₂\n",
       "m = ────────────\n",
       "    -Ind₁ + Ind₂"
      ]
     },
     "execution_count": 147,
     "metadata": {},
     "output_type": "execute_result"
    }
   ],
   "source": [
    "sp.Eq(m,(Dep2-Dep1)/(Ind2-Ind1))"
   ]
  },
  {
   "cell_type": "markdown",
   "metadata": {},
   "source": [
    "**Paso 3:** Una vez hallada la pendiente, se usa la *punto - pendiente* con un punto dado y la pendiente (por eso se llama así)."
   ]
  },
  {
   "cell_type": "code",
   "execution_count": 152,
   "metadata": {},
   "outputs": [
    {
     "data": {
      "image/png": "[encoded data removed]",
      "text/latex": [
       "$$Dep - Dep_{1} = m \\left(Ind - Ind_{1}\\right)$$"
      ],
      "text/plain": [
       "Dep - Dep₁ = m⋅(Ind - Ind₁)"
      ]
     },
     "execution_count": 152,
     "metadata": {},
     "output_type": "execute_result"
    }
   ],
   "source": [
    "Dep=sp.symbols(\"Dep\")\n",
    "Ind=sp.symbols(\"Ind\")\n",
    "sp.Eq(Dep-Dep1,m*(Ind-Ind1))"
   ]
  },
  {
   "cell_type": "markdown",
   "metadata": {},
   "source": [
    "**Paso 4:** Se despeja Dep y se simplifica el resto. Se obtiene la ecuación canónica y=mx+b representativa de dicha función lineal."
   ]
  }
 ],
 "metadata": {
  "kernelspec": {
   "display_name": "Python 3",
   "language": "python",
   "name": "python3"
  },
  "language_info": {
   "codemirror_mode": {
    "name": "ipython",
    "version": 3
   },
   "file_extension": ".py",
   "mimetype": "text/x-python",
   "name": "python",
   "nbconvert_exporter": "python",
   "pygments_lexer": "ipython3",
   "version": "3.7.3"
  },
  "latex_envs": {
   "LaTeX_envs_menu_present": true,
   "autoclose": false,
   "autocomplete": true,
   "bibliofile": "biblio.bib",
   "cite_by": "apalike",
   "current_citInitial": 1,
   "eqLabelWithNumbers": true,
   "eqNumInitial": 1,
   "hotkeys": {
    "equation": "Ctrl-E",
    "itemize": "Ctrl-I"
   },
   "labels_anchors": false,
   "latex_user_defs": false,
   "report_style_numbering": false,
   "user_envs_cfg": false
  },
  "toc": {
   "base_numbering": 1,
   "nav_menu": {},
   "number_sections": true,
   "sideBar": true,
   "skip_h1_title": false,
   "title_cell": "Table of Contents",
   "title_sidebar": "Contents",
   "toc_cell": false,
   "toc_position": {},
   "toc_section_display": true,
   "toc_window_display": false
  }
 },
 "nbformat": 4,
 "nbformat_minor": 2
}
