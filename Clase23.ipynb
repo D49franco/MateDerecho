{
 "cells": [
  {
   "cell_type": "code",
   "execution_count": 1,
   "metadata": {
    "scrolled": true
   },
   "outputs": [
    {
     "data": {
      "text/html": [
       " <div style=\"background-color: #023324; \"><p><br></p>     <img src=\"https://www.uexternado.edu.co/wp-content/themes/externado_theme/images/logo-uec.svg\" alt=\"Universidad Externado\" width=\"150\" align=\"left\">  <h1  style=\"color: white;font-family:Lucida Sans Unicode, Lucida Grande, sans-serif\" align=\"center\">Clase 23: Juegos contra la Naturaleza y Valor Esperado</h1> <p><br></p></div>"
      ],
      "text/plain": [
       "<IPython.core.display.HTML object>"
      ]
     },
     "metadata": {},
     "output_type": "display_data"
    }
   ],
   "source": [
    "from IPython.core.display import HTML, display\n",
    "encabezado=display(HTML(' <div style=\"background-color: #023324; \"><p>'+\n",
    "             '<br></p>     <img src=\"https://www.uexternado.edu.co/wp-content/themes/externado_theme/images/logo-uec.svg\" alt=\"Universidad Externado\" width=\"150\" align=\"left\">  '+\n",
    "             '<h1  style=\"color: white;font-family:Lucida Sans Unicode, Lucida Grande, sans-serif\" align=\"center\">Clase 23: Juegos contra la Naturaleza y Valor Esperado</h1> '+\n",
    "             '<p><br></p></div>'))"
   ]
  },
  {
   "cell_type": "markdown",
   "metadata": {},
   "source": [
    "**Profesor: David Andrés Franco Quintero**\n",
    "\n",
    "**Materia: Matemáticas para Derecho**"
   ]
  },
  {
   "cell_type": "markdown",
   "metadata": {},
   "source": [
    "# Clase 23: Juegos contra la Naturaleza y Valor Esperado"
   ]
  },
  {
   "cell_type": "markdown",
   "metadata": {},
   "source": [
    "## Ejercicio"
   ]
  },
  {
   "cell_type": "markdown",
   "metadata": {},
   "source": [
    "NARANJO MARTÍNEZ, C. *Lecciones de Matemáticas para Abogados 2.0* Universidad Externado de Colombia. Bogotá D. C. 2013. 88 p. y ss.\n",
    "\n",
    "Un inversionista está interesado en adquirir bonos del tesoro, armamento, o un portafolio de acciones en un país que ofrece cierta expectativa de fortaleza económica, pero que aún se encuentra en una situación difícil de orden público. Tal es así, que el inversionista podría haberse enfrentado a un ambiente de guerra fría entre las fuerzas militares del Estado y los grupos insurgentes o a una situación de paz o incluso a una situación de enfrentamiento total. Las recompensas que se obtienen según cada situación y decisión de inversión que tomen son las mostradas en la matriz de pagos siguiente y corresponden a la utilidad en millones de pesos."
   ]
  },
  {
   "cell_type": "code",
   "execution_count": 2,
   "metadata": {},
   "outputs": [
    {
     "name": "stdout",
     "output_type": "stream",
     "text": [
      "[[160 200  70]\n",
      " [280  60 400]\n",
      " [320 360 -80]]\n"
     ]
    },
    {
     "data": {
      "text/html": [
       "<div>\n",
       "<style scoped>\n",
       "    .dataframe tbody tr th:only-of-type {\n",
       "        vertical-align: middle;\n",
       "    }\n",
       "\n",
       "    .dataframe tbody tr th {\n",
       "        vertical-align: top;\n",
       "    }\n",
       "\n",
       "    .dataframe thead th {\n",
       "        text-align: right;\n",
       "    }\n",
       "</style>\n",
       "<table border=\"1\" class=\"dataframe\">\n",
       "  <thead>\n",
       "    <tr style=\"text-align: right;\">\n",
       "      <th></th>\n",
       "      <th>Guerra Fría</th>\n",
       "      <th>Paz</th>\n",
       "      <th>Enfrentamiento</th>\n",
       "    </tr>\n",
       "  </thead>\n",
       "  <tbody>\n",
       "    <tr>\n",
       "      <th>Bonos del Tesoro</th>\n",
       "      <td>160</td>\n",
       "      <td>200</td>\n",
       "      <td>70</td>\n",
       "    </tr>\n",
       "    <tr>\n",
       "      <th>Armamento</th>\n",
       "      <td>280</td>\n",
       "      <td>60</td>\n",
       "      <td>400</td>\n",
       "    </tr>\n",
       "    <tr>\n",
       "      <th>Portafolio de acciones</th>\n",
       "      <td>320</td>\n",
       "      <td>360</td>\n",
       "      <td>-80</td>\n",
       "    </tr>\n",
       "  </tbody>\n",
       "</table>\n",
       "</div>"
      ],
      "text/plain": [
       "                        Guerra Fría  Paz  Enfrentamiento\n",
       "Bonos del Tesoro                160  200              70\n",
       "Armamento                       280   60             400\n",
       "Portafolio de acciones          320  360             -80"
      ]
     },
     "execution_count": 2,
     "metadata": {},
     "output_type": "execute_result"
    }
   ],
   "source": [
    "import numpy as np\n",
    "from numpy import *\n",
    "import pandas as pd\n",
    "B=np.array([[160,200,70],[280,60,400],[320,360,-80]])\n",
    "print(B)\n",
    "estrategias=(\"Bonos del Tesoro\",\"Armamento\",\"Portafolio de acciones\")\n",
    "naturaleza=(\"Guerra Fría\",\"Paz\",\"Enfrentamiento\")\n",
    "tabla=pd.DataFrame(B,index=estrategias,columns=naturaleza)\n",
    "tabla"
   ]
  },
  {
   "cell_type": "markdown",
   "metadata": {},
   "source": [
    "De acuerdo con esta información, resuelva:\n",
    "\n",
    "a. ¿Por qué podría llamarse este un juego de un jugador?\n",
    "\n",
    "b. Si el jugador fuese prudente para invertir, es decir con aversión al riesgo, ¿cuál sería el valor del juego?\n",
    "\n",
    "c. Si el jugador fuese arriesgado para invertir, es decir propenso al riesgo, ¿cuál sería el valor del juego?\n",
    "\n",
    "d. Suponga que hay una probabilidad de 0,75 de que se dé el escenario de *Guerra Fría*, y que existe una probabilidad de 0,125 de que sea el de *Paz* el que se dé. A partir del criterio del Valor Esperado, ¿cuál debería ser la estrategia a elegir?"
   ]
  },
  {
   "cell_type": "markdown",
   "metadata": {},
   "source": [
    "### Solución"
   ]
  },
  {
   "cell_type": "markdown",
   "metadata": {},
   "source": [
    "a. Por dos razones:\n",
    "\n",
    "1. Por cuanto sólo hay un personaje que toma decisiones.\n",
    "\n",
    "2. La naturaleza no es un un jugador que toma decisiones, sino una contigencia de situaciones o ambientes posibles (los escenarios que pueden ocurrir)."
   ]
  },
  {
   "cell_type": "markdown",
   "metadata": {},
   "source": [
    "b. Cuando se asume que un jugador es averso al riesgo, éste asume una posición de pensar en las peores consecuencias, pero entre ellas elige la que mayor ganancia le reporte (por ser maximizador); entre lo peor, elige lo mejor. De esta manera es alguien que busca el *maxmin* (el **máx**imo de los **mín**imos). Por eso, hay que buscar primero las mínimas recompensas de cada estrategia, para de ellas elegir la máxima."
   ]
  },
  {
   "cell_type": "markdown",
   "metadata": {},
   "source": [
    "**Mínimos:**"
   ]
  },
  {
   "cell_type": "code",
   "execution_count": 3,
   "metadata": {},
   "outputs": [
    {
     "data": {
      "text/html": [
       "<div>\n",
       "<style scoped>\n",
       "    .dataframe tbody tr th:only-of-type {\n",
       "        vertical-align: middle;\n",
       "    }\n",
       "\n",
       "    .dataframe tbody tr th {\n",
       "        vertical-align: top;\n",
       "    }\n",
       "\n",
       "    .dataframe thead th {\n",
       "        text-align: right;\n",
       "    }\n",
       "</style>\n",
       "<table border=\"1\" class=\"dataframe\">\n",
       "  <thead>\n",
       "    <tr style=\"text-align: right;\">\n",
       "      <th></th>\n",
       "      <th>Mínimos</th>\n",
       "    </tr>\n",
       "  </thead>\n",
       "  <tbody>\n",
       "    <tr>\n",
       "      <th>Bonos del Tesoro</th>\n",
       "      <td>70</td>\n",
       "    </tr>\n",
       "    <tr>\n",
       "      <th>Armamento</th>\n",
       "      <td>60</td>\n",
       "    </tr>\n",
       "    <tr>\n",
       "      <th>Portafolio de acciones</th>\n",
       "      <td>-80</td>\n",
       "    </tr>\n",
       "  </tbody>\n",
       "</table>\n",
       "</div>"
      ],
      "text/plain": [
       "                        Mínimos\n",
       "Bonos del Tesoro             70\n",
       "Armamento                    60\n",
       "Portafolio de acciones      -80"
      ]
     },
     "execution_count": 3,
     "metadata": {},
     "output_type": "execute_result"
    }
   ],
   "source": [
    "mini=[]\n",
    "for row in B:\n",
    "    mini.append(min(row))\n",
    "minimos={\"Mínimos\"}\n",
    "minis=pd.DataFrame(mini,index=estrategias,columns=minimos)\n",
    "minis"
   ]
  },
  {
   "cell_type": "markdown",
   "metadata": {},
   "source": [
    "**maxmin**"
   ]
  },
  {
   "cell_type": "code",
   "execution_count": 4,
   "metadata": {},
   "outputs": [
    {
     "data": {
      "text/plain": [
       "70"
      ]
     },
     "execution_count": 4,
     "metadata": {},
     "output_type": "execute_result"
    }
   ],
   "source": [
    "minis[\"Mínimos\"].max()"
   ]
  },
  {
   "cell_type": "markdown",
   "metadata": {},
   "source": [
    "En este sentido, una persona aversa al riesgo, elegiría el máximo de los mínimos (maxmin). Para la situación del inversionista el *maxmin* = 70, que corresponde a la estrategia \"Bonos del Tesoro\". Entonces, suponiendo que él sea averso al riesgo, decidiría invertir en un *Bonos del Tesoro*, esperando que se dé una situacion de \"Enfrentamiento\"."
   ]
  },
  {
   "cell_type": "markdown",
   "metadata": {},
   "source": [
    "c. Cuando se asume que un jugador es propenso al riesgo, éste asume una posición de pensar en las mejores consecuencias, y entre ellas elige la que mayor ganancia le reporte (por ser maximizador); entre lo mejor, elige lo mejor. De esta manera es alguien que busca el *maxmax* (el **máx**imo de los **máx**imos). Por eso, hay que buscar primero las máximas recompensas de cada estrategia, para de ellas elegir la máxima."
   ]
  },
  {
   "cell_type": "markdown",
   "metadata": {},
   "source": [
    "**Máximos**"
   ]
  },
  {
   "cell_type": "code",
   "execution_count": 5,
   "metadata": {},
   "outputs": [
    {
     "data": {
      "text/html": [
       "<div>\n",
       "<style scoped>\n",
       "    .dataframe tbody tr th:only-of-type {\n",
       "        vertical-align: middle;\n",
       "    }\n",
       "\n",
       "    .dataframe tbody tr th {\n",
       "        vertical-align: top;\n",
       "    }\n",
       "\n",
       "    .dataframe thead th {\n",
       "        text-align: right;\n",
       "    }\n",
       "</style>\n",
       "<table border=\"1\" class=\"dataframe\">\n",
       "  <thead>\n",
       "    <tr style=\"text-align: right;\">\n",
       "      <th></th>\n",
       "      <th>Máximos</th>\n",
       "    </tr>\n",
       "  </thead>\n",
       "  <tbody>\n",
       "    <tr>\n",
       "      <th>Bonos del Tesoro</th>\n",
       "      <td>200</td>\n",
       "    </tr>\n",
       "    <tr>\n",
       "      <th>Armamento</th>\n",
       "      <td>400</td>\n",
       "    </tr>\n",
       "    <tr>\n",
       "      <th>Portafolio de acciones</th>\n",
       "      <td>360</td>\n",
       "    </tr>\n",
       "  </tbody>\n",
       "</table>\n",
       "</div>"
      ],
      "text/plain": [
       "                        Máximos\n",
       "Bonos del Tesoro            200\n",
       "Armamento                   400\n",
       "Portafolio de acciones      360"
      ]
     },
     "execution_count": 5,
     "metadata": {},
     "output_type": "execute_result"
    }
   ],
   "source": [
    "maxi=[]\n",
    "for row in B:\n",
    "    maxi.append(max(row))\n",
    "maximos={\"Máximos\"}\n",
    "maxis=pd.DataFrame(maxi,index=estrategias,columns=maximos)\n",
    "maxis"
   ]
  },
  {
   "cell_type": "markdown",
   "metadata": {},
   "source": [
    "**maxmax**"
   ]
  },
  {
   "cell_type": "code",
   "execution_count": 6,
   "metadata": {},
   "outputs": [
    {
     "data": {
      "text/plain": [
       "400"
      ]
     },
     "execution_count": 6,
     "metadata": {},
     "output_type": "execute_result"
    }
   ],
   "source": [
    "maxis[\"Máximos\"].max()"
   ]
  },
  {
   "cell_type": "markdown",
   "metadata": {},
   "source": [
    "En este sentido, una persona propensa al riesgo, elegiría el máximo de los máximos (maxmax). Para la situación del inversionista el *maxmax* = 400, que corresponde a la estrategia \"Armamento\". Entonces, suponiendo que él sea propenso al riesgo, decidiría invertir en *Armamento*, esperando que se dé una situación de \"Enfrentamiento\"."
   ]
  },
  {
   "cell_type": "markdown",
   "metadata": {},
   "source": [
    "d. En este punto el Valor Esperado (o Esperanza Matemática) de cada estrategia, dicta lo que se esperaría en promedio de elegir cada una de los opciones (conociendo lo bueno y lo malo de cada estrategia, y la probabilidad de que se dé cada escenario)."
   ]
  },
  {
   "cell_type": "markdown",
   "metadata": {},
   "source": [
    "Ya que la \"Paz\" tiene una probabilidad de 0,125 de darse, y la \"Guerra Fría\" una de 0,75, entonces el de \"Enfrentamiento\" tiene una probabilidad de 0,125 (¿por qué?). Así, la tabla queda:"
   ]
  },
  {
   "cell_type": "code",
   "execution_count": 7,
   "metadata": {},
   "outputs": [
    {
     "data": {
      "text/html": [
       "<div>\n",
       "<style scoped>\n",
       "    .dataframe tbody tr th:only-of-type {\n",
       "        vertical-align: middle;\n",
       "    }\n",
       "\n",
       "    .dataframe tbody tr th {\n",
       "        vertical-align: top;\n",
       "    }\n",
       "\n",
       "    .dataframe thead th {\n",
       "        text-align: right;\n",
       "    }\n",
       "</style>\n",
       "<table border=\"1\" class=\"dataframe\">\n",
       "  <thead>\n",
       "    <tr style=\"text-align: right;\">\n",
       "      <th></th>\n",
       "      <th>Guerra Fría (0,75)</th>\n",
       "      <th>Paz (0,125)</th>\n",
       "      <th>Enfrentamiento (0,125)</th>\n",
       "    </tr>\n",
       "  </thead>\n",
       "  <tbody>\n",
       "    <tr>\n",
       "      <th>Bonos del Tesoro</th>\n",
       "      <td>160</td>\n",
       "      <td>200</td>\n",
       "      <td>70</td>\n",
       "    </tr>\n",
       "    <tr>\n",
       "      <th>Armamento</th>\n",
       "      <td>280</td>\n",
       "      <td>60</td>\n",
       "      <td>400</td>\n",
       "    </tr>\n",
       "    <tr>\n",
       "      <th>Portafolio de acciones</th>\n",
       "      <td>320</td>\n",
       "      <td>360</td>\n",
       "      <td>-80</td>\n",
       "    </tr>\n",
       "  </tbody>\n",
       "</table>\n",
       "</div>"
      ],
      "text/plain": [
       "                        Guerra Fría (0,75)  Paz (0,125)  \\\n",
       "Bonos del Tesoro                       160          200   \n",
       "Armamento                              280           60   \n",
       "Portafolio de acciones                 320          360   \n",
       "\n",
       "                        Enfrentamiento (0,125)  \n",
       "Bonos del Tesoro                            70  \n",
       "Armamento                                  400  \n",
       "Portafolio de acciones                     -80  "
      ]
     },
     "execution_count": 7,
     "metadata": {},
     "output_type": "execute_result"
    }
   ],
   "source": [
    "naturaleza=(\"Guerra Fría (0,75)\",\"Paz (0,125)\",\"Enfrentamiento (0,125)\")\n",
    "tabla2=pd.DataFrame(B,index=estrategias,columns=naturaleza)\n",
    "tabla2"
   ]
  },
  {
   "cell_type": "markdown",
   "metadata": {},
   "source": [
    "De esta manera, debemos hacer lo siguiente para cada estrategia posible:\n",
    "\n",
    "1. Cada ganancia que pueda presentarse en la estrategia, debe multiplicarse con su respectiva probabilidad de ocurrencia (esto depende de en qué escenario de la naturaleza se manifiesta). Ejemplo: Si se elige la estrategia \"Bonos del Tesoro\", el 160 se presenta con una probabilidad de 0,75 (que se dé una \"Guerra Fría\").\n",
    "\n",
    "2. Cada uno de los resultados de las multiplicaciones de la estragia debe ser ser sumado. Ejemplo: Para la estrategia \"Bonos del Tesoro\" se tiene que E(Bonos del Tesoro) = (160 x 0,75) + (200 x 0,125) + (70 x 0,125) = 153,75\n",
    "\n",
    "3. El Valor Esperado es el resultado del paso anterior. Se debe elegir el que mayor Valor Esperado reporte."
   ]
  },
  {
   "cell_type": "code",
   "execution_count": 8,
   "metadata": {},
   "outputs": [
    {
     "name": "stdout",
     "output_type": "stream",
     "text": [
      "[[160 200  70]\n",
      " [280  60 400]\n",
      " [320 360 -80]]\n",
      "\n",
      "[[0.75  0.125 0.125]\n",
      " [0.75  0.125 0.125]\n",
      " [0.75  0.125 0.125]]\n",
      "\n",
      "[[120.    25.     8.75]\n",
      " [210.     7.5   50.  ]\n",
      " [240.    45.   -10.  ]]\n"
     ]
    }
   ],
   "source": [
    "print(B)\n",
    "#B1=transpose(B)\n",
    "#print(B1)\n",
    "contador_filas=0\n",
    "probabilidades=[0.75,0.125,0.125]\n",
    "probabilidades2=[]\n",
    "while contador_filas<len(estrategias):\n",
    "    probabilidades2.append(probabilidades)\n",
    "    contador_filas+=1\n",
    "probabilidades3=np.array(probabilidades2)\n",
    "print()\n",
    "print(probabilidades3)\n",
    "print()\n",
    "prob2=probabilidades3*B\n",
    "print(prob2)"
   ]
  },
  {
   "cell_type": "code",
   "execution_count": 9,
   "metadata": {},
   "outputs": [
    {
     "data": {
      "text/plain": [
       "array([153.75, 267.5 , 275.  ])"
      ]
     },
     "execution_count": 9,
     "metadata": {},
     "output_type": "execute_result"
    }
   ],
   "source": [
    "VEs=np.apply_along_axis(sum, 1, prob2) #0 para operar sobre columnas, 1 para operar sobre filas \n",
    "VEs"
   ]
  },
  {
   "cell_type": "code",
   "execution_count": 10,
   "metadata": {},
   "outputs": [
    {
     "data": {
      "text/html": [
       "<div>\n",
       "<style scoped>\n",
       "    .dataframe tbody tr th:only-of-type {\n",
       "        vertical-align: middle;\n",
       "    }\n",
       "\n",
       "    .dataframe tbody tr th {\n",
       "        vertical-align: top;\n",
       "    }\n",
       "\n",
       "    .dataframe thead th {\n",
       "        text-align: right;\n",
       "    }\n",
       "</style>\n",
       "<table border=\"1\" class=\"dataframe\">\n",
       "  <thead>\n",
       "    <tr style=\"text-align: right;\">\n",
       "      <th></th>\n",
       "      <th>Valores Esperados</th>\n",
       "    </tr>\n",
       "  </thead>\n",
       "  <tbody>\n",
       "    <tr>\n",
       "      <th>Bonos del Tesoro</th>\n",
       "      <td>153.75</td>\n",
       "    </tr>\n",
       "    <tr>\n",
       "      <th>Armamento</th>\n",
       "      <td>267.50</td>\n",
       "    </tr>\n",
       "    <tr>\n",
       "      <th>Portafolio de acciones</th>\n",
       "      <td>275.00</td>\n",
       "    </tr>\n",
       "  </tbody>\n",
       "</table>\n",
       "</div>"
      ],
      "text/plain": [
       "                        Valores Esperados\n",
       "Bonos del Tesoro                   153.75\n",
       "Armamento                          267.50\n",
       "Portafolio de acciones             275.00"
      ]
     },
     "execution_count": 10,
     "metadata": {},
     "output_type": "execute_result"
    }
   ],
   "source": [
    "valoresesperados=[\"Valores Esperados\"]\n",
    "tabla3=pd.DataFrame(VEs,index=estrategias,columns=valoresesperados)\n",
    "tabla3"
   ]
  },
  {
   "cell_type": "markdown",
   "metadata": {},
   "source": [
    "Así, debe elegir la estrategia que reporte el mayor valor esperado."
   ]
  },
  {
   "cell_type": "code",
   "execution_count": 11,
   "metadata": {},
   "outputs": [
    {
     "data": {
      "text/plain": [
       "275.0"
      ]
     },
     "execution_count": 11,
     "metadata": {},
     "output_type": "execute_result"
    }
   ],
   "source": [
    "tabla3[\"Valores Esperados\"].max()"
   ]
  },
  {
   "cell_type": "markdown",
   "metadata": {},
   "source": [
    "Entonces la estrategia que debería elegirse, de acuerdo con el Valor Esperado, es la del Portafolio de acciones."
   ]
  },
  {
   "cell_type": "markdown",
   "metadata": {},
   "source": [
    "## Solucionador de Juegos contra la Naturaleza"
   ]
  },
  {
   "cell_type": "markdown",
   "metadata": {},
   "source": [
    "### Por criterios de aversión y propensión al riesgo"
   ]
  },
  {
   "cell_type": "code",
   "execution_count": 2,
   "metadata": {},
   "outputs": [
    {
     "name": "stdout",
     "output_type": "stream",
     "text": [
      "     0\n",
      "0  0.0\n",
      "1  0.0\n"
     ]
    }
   ],
   "source": [
    "import numpy as np\n",
    "import pandas as pd\n",
    "from numpy import *\n",
    "\n",
    "def creadortabla(num_estrategias,num_naturaleza):\n",
    "    valori=np.zeros((num_estrategias,num_naturaleza))\n",
    "    tabla=pd.DataFrame(valori)\n",
    "    print(tabla)\n",
    "    \n",
    "creadortabla(2,1)"
   ]
  }
 ],
 "metadata": {
  "kernelspec": {
   "display_name": "Python 3",
   "language": "python",
   "name": "python3"
  },
  "language_info": {
   "codemirror_mode": {
    "name": "ipython",
    "version": 3
   },
   "file_extension": ".py",
   "mimetype": "text/x-python",
   "name": "python",
   "nbconvert_exporter": "python",
   "pygments_lexer": "ipython3",
   "version": "3.7.3"
  },
  "latex_envs": {
   "LaTeX_envs_menu_present": true,
   "autoclose": false,
   "autocomplete": true,
   "bibliofile": "biblio.bib",
   "cite_by": "apalike",
   "current_citInitial": 1,
   "eqLabelWithNumbers": true,
   "eqNumInitial": 1,
   "hotkeys": {
    "equation": "Ctrl-E",
    "itemize": "Ctrl-I"
   },
   "labels_anchors": false,
   "latex_user_defs": false,
   "report_style_numbering": false,
   "user_envs_cfg": false
  },
  "toc": {
   "base_numbering": 1,
   "nav_menu": {},
   "number_sections": true,
   "sideBar": true,
   "skip_h1_title": false,
   "title_cell": "Table of Contents",
   "title_sidebar": "Contents",
   "toc_cell": false,
   "toc_position": {},
   "toc_section_display": true,
   "toc_window_display": false
  }
 },
 "nbformat": 4,
 "nbformat_minor": 2
}
