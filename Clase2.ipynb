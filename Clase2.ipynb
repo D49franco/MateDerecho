{
 "cells": [
  {
   "cell_type": "markdown",
   "metadata": {},
   "source": [
    "# Porcentajes, variables y relaciones"
   ]
  },
  {
   "cell_type": "markdown",
   "metadata": {},
   "source": [
    "## Ejercicio de proporciones, repartos y regla de tres"
   ]
  },
  {
   "cell_type": "markdown",
   "metadata": {
    "solution2": "hidden",
    "solution2_first": true
   },
   "source": [
    "### Ejercicio 1"
   ]
  },
  {
   "cell_type": "markdown",
   "metadata": {
    "solution2": "hidden"
   },
   "source": [
    "El artículo 340 del Código Penal contempla el delito de “Concierto para delinquir” así:\n",
    "\n",
    "“Cuando varias personas se concierten con el fin de cometer delitos, cada una de ellas será penada, por esa sola conducta, con prisión de cuarenta y ocho (48) a ciento ocho (108) meses. (…) La pena privativa de la libertad se aumentará en la mitad para quienes organicen, fomenten, promuevan, dirijan, encabecen, constituyan o financien el concierto o la asociación para delinquir.”\n",
    "\n",
    "A su vez, el artículo 60 del mismo Código establece:\n",
    "\n",
    "“Parámetros para la determinación de los mínimos y máximos aplicables. Para efectuar el proceso de individualización de la pena el sentenciador deberá fijar, en primer término, los límites mínimos y máximos en los que se ha de mover. Para ello, y cuando hubiere circunstancias modificadoras de dichos límites, aplicará las siguientes reglas: \n",
    "1. Si la pena se aumenta o disminuye en una proporción determinada, ésta se aplicará al mínimo y al máximo de la infracción básica. \n",
    "2. Si la pena se aumenta hasta en una proporción, ésta se aplicará al máximo de la infracción básica. \n",
    "3. Si la pena se disminuye hasta en una proporción, ésta se aplicará al mínimo de la infracción básica. \n",
    "4. Si la pena se aumenta en dos proporciones, la menor se aplicará al mínimo y la mayor al máximo de la infracción básica. 5. Si la pena se disminuye en dos proporciones, la mayor se aplicará al mínimo y la menor al máximo de la infracción básica.” \n",
    "\n",
    "Paulo, reconocido jefe de un grupo delincuencial común (quien constituyó tal banda), fue condenado por el delito mencionado. ¿Cuál es el máximo y mínimo de prisión que usted como juez debe tener en cuenta para su prisión?"
   ]
  },
  {
   "cell_type": "markdown",
   "metadata": {},
   "source": [
    "#### Solución "
   ]
  },
  {
   "cell_type": "markdown",
   "metadata": {},
   "source": [
    "La pena por el delito de concierto para delinquir es de 48 a 108 meses. Paulo fue quien constituyó la banda delincuencial por lo cual se le aplique el aumento de \"en la mitad\".\n",
    "\n",
    "Como dice \"aumentará **en** la mitad\", el artículo 60 numeral 1 es el que debe usarse, ya que la pena se está aumentando en una proporción determinada.\n",
    "\n",
    "Entonces debe aumentarse en la mitad tanto al mínimo como al máximo.\n"
   ]
  },
  {
   "cell_type": "code",
   "execution_count": 12,
   "metadata": {},
   "outputs": [
    {
     "name": "stdout",
     "output_type": "stream",
     "text": [
      "La mitad del mínimo es 24.0\n",
      "La mitad del máximo es 54.0\n"
     ]
    }
   ],
   "source": [
    "import numpy as np\n",
    "import matplotlib as plt\n",
    "import sympy as sp\n",
    "\n",
    "mini=48\n",
    "maxi=108\n",
    "\n",
    "mitadmin=mini * 0.5  #al mínimo se le saca la mitad y se guarda\n",
    "mitadmax=maxi * 0.5 #al máximo se la saca la mitad y se guarda\n",
    "\n",
    "print(\"La mitad del mínimo es {}\".format(mitadmin))\n",
    "print(\"La mitad del máximo es {}\".format(mitadmax))"
   ]
  },
  {
   "cell_type": "code",
   "execution_count": 16,
   "metadata": {},
   "outputs": [
    {
     "name": "stdout",
     "output_type": "stream",
     "text": [
      "La pena mínima para Paula es 72.0 meses\n",
      "La pena máxima para Paula es 162.0 meses\n"
     ]
    }
   ],
   "source": [
    "nuevomin = mitadmin + mini #sumar la mitad del mínimo más el mínimo, da el nuevo mínimo\n",
    "nuevomax = mitadmax + maxi #sumar la mitad del máximo más el máximo, da el nuevo máximo\n",
    "\n",
    "print(\"La pena mínima para Paulo es {} meses\".format(nuevomin))\n",
    "print(\"La pena máxima para Paulo es {} meses\".format(nuevomax))"
   ]
  },
  {
   "cell_type": "markdown",
   "metadata": {},
   "source": [
    "## Porcentajes, fracciones, decimales y operadores"
   ]
  },
  {
   "cell_type": "markdown",
   "metadata": {},
   "source": [
    "### Ejercicio 1"
   ]
  },
  {
   "cell_type": "markdown",
   "metadata": {},
   "source": [
    "El artículo 18 de la Ley 820 de 2003 (Ley de Arrendamiento Urbano) establece que:\n",
    "\n",
    "*“ARTÍCULO 18. RENTA DE ARRENDAMIENTO. El precio mensual del arrendamiento será fijado por las partes en moneda legal pero no podrá exceder el uno por ciento (1%) del valor comercial del inmueble o de la parte de él que se dé en arriendo.*\n",
    "\n",
    "*La estimación comercial para efectos del presente artículo no podrá exceder el equivalente a dos (2) veces el avalúo catastral vigente”.*\n",
    "\n",
    "William alquiló un predio de su propiedad a Henry, el cual está ubicado en Popayán. Para este municipio, quien lleva el registro catastral es el IGAC (Instituto Geográfico Agustín Codazzi), y cuya certificación determinó un avalúo del bien por valor de COP 134’564.352. El canon lo pactaron en 2’400.000 COP mensuales. El valor comercial del inmueble está en 237’000.000 COP.\n",
    "\n",
    "¿Encuentra problema en esta situación? Si lo encuentra, ¿en qué radica y cómo solucionarlo?\n",
    "\n",
    "\n",
    "\n"
   ]
  },
  {
   "cell_type": "markdown",
   "metadata": {},
   "source": [
    "#### Solución"
   ]
  },
  {
   "cell_type": "markdown",
   "metadata": {},
   "source": [
    "Primero debemos ver si el valor del inmueble es adecuada (no puede superar al doble del avalúo catastral vigente). Por ello calculamos el doble del avalúo catastral:"
   ]
  },
  {
   "cell_type": "code",
   "execution_count": 21,
   "metadata": {},
   "outputs": [
    {
     "name": "stdout",
     "output_type": "stream",
     "text": [
      "El máximo valor comercial del inmueble es: 269128704\n"
     ]
    }
   ],
   "source": [
    "avaluocatastral=134564352\n",
    "maxvavaluocomercial=avaluocatastral*2\n",
    "print(\"El máximo valor comercial del inmueble es: {}\".format(maxvavaluocomercial))"
   ]
  },
  {
   "cell_type": "markdown",
   "metadata": {},
   "source": [
    "Como el valor comercial del inmueble es de 237'000.000 COP entonces no se rompe la ley en esta cuestión. \n",
    "Ahora, si el valor comercial del inmueble es de 237'000.000 COP, entonces el 1% se calcula, a fin de saber si se rompe la otra parte de la norma:"
   ]
  },
  {
   "cell_type": "code",
   "execution_count": 22,
   "metadata": {},
   "outputs": [
    {
     "name": "stdout",
     "output_type": "stream",
     "text": [
      "El precio máximo que puede cobrarse de arriendo es 2370000\n"
     ]
    }
   ],
   "source": [
    "avaluocomercial= 237000000 #establecemos una variable del precio comercial\n",
    "maxcanon = avaluocomercial * 0.01 #sacar el 1% del avalúo comercial\n",
    "\n",
    "if maxcanon==int(maxcanon):\n",
    "    maxcanon=int(maxcanon)\n",
    "print(\"El precio máximo que puede cobrarse de arriendo es {}\".format(maxcanon))"
   ]
  },
  {
   "cell_type": "markdown",
   "metadata": {},
   "source": [
    "En ese sentido, si el canon máximo es de 2'370.000 COP y le están cobrando 2'400.000. entonces se está incumpliendo lo preceptuado en la norma.\n"
   ]
  },
  {
   "cell_type": "markdown",
   "metadata": {},
   "source": [
    "## Ejercicios de porcentajes de porcentajes"
   ]
  },
  {
   "cell_type": "markdown",
   "metadata": {},
   "source": [
    "### Ejercicio 1"
   ]
  },
  {
   "cell_type": "markdown",
   "metadata": {},
   "source": [
    "Electoralmente hablando, la Constitución Política de Colombia establece en su artículo 378 inciso 2 que \n",
    "\n",
    "*“[l]a aprobación de reformas a la Constitución por vía de referendo requiere el voto afirmativo de más de la mitad de los sufragantes, y que el número de éstos exceda de la cuarta parte del total de ciudadanos que integren el censo electoral”.*\n",
    "\n",
    "a) Traduzca a fracción/porcentaje/decimal el número de ciudadanos que deben presentarse a las urnas y el número de votos afirmativos requeridos para que se reforme la Constitución por este mecanismo. \n",
    "\n",
    "b) ¿Qué porcentaje/fracción/decimal de votos afirmativos del censo electoral se requiere para que se reforme la Constitución vía referendo? \n",
    "\n",
    "c) Si al 7 de abril de 2015, el censo electoral era de 33'747.062 personas, ¿cuántos habitantes se requerían que votaran afirmativamente por un referendo que se propusiera, para que lograra reformar la Constitución?"
   ]
  },
  {
   "cell_type": "markdown",
   "metadata": {},
   "source": [
    "#### Solución "
   ]
  },
  {
   "cell_type": "markdown",
   "metadata": {},
   "source": [
    "a) Entendemos que una fracción, un porcentaje y un decimal son tres distintas representaciones de un mismo número. En este caso:\n",
    "\n",
    "1. Una cosa es cuántos deben presentarse a las urnas para que la votación se considere representativa y vinculante en su resultado. Para esta situación debe presentar por lo menos (mínimo) la cuarta parte del censo electoral. 1/4 (**fracción**) es lo mismo que 0,25 (**decimal**) y ese lo multiplicamos por 100 da 25% (**porcentaje**).\n",
    "\n",
    "2. De los que vayan a las urnas, mínimo la mitad debe aprobar lo que se ponga a consideración. La mitad es 1/2 (**fracción**), esto es 0,5 (**decimal**) y redunda en un 50% (**porcentaje**)."
   ]
  },
  {
   "cell_type": "markdown",
   "metadata": {},
   "source": [
    "b) Aquí se pregunta es, si sabemos que mínimo debe acudir el 25% del censo electoral, y de ese 25% mínimo el 50% debe votar \"sí\", entonces ¿cuál es el porcentaje mínimo de personas del censo electoral que deben decir \"sí\"? Esto es preguntarse *cuánto es el 50% de 25%* (**porcentaje de porcentaje**). Para sacar un porcentaje de un porcentaje simplemente se deben multiplicar los porcentajes."
   ]
  },
  {
   "cell_type": "code",
   "execution_count": 23,
   "metadata": {},
   "outputs": [
    {
     "data": {
      "text/plain": [
       "0.125"
      ]
     },
     "execution_count": 23,
     "metadata": {},
     "output_type": "execute_result"
    }
   ],
   "source": [
    "0.25*0.5 #porcentaje de porcentaje"
   ]
  },
  {
   "cell_type": "markdown",
   "metadata": {},
   "source": [
    "Esto es el 12,5% del censo electoral debe acudir y votar afirmativamente para que se apruebe el referendo."
   ]
  },
  {
   "cell_type": "markdown",
   "metadata": {},
   "source": [
    "c) Si el censo electoral (potencial electoral, es decir, todos los que pueden votar) son 33'747.062, entonces podemos hacerlo de dos maneras:\n",
    "\n",
    "1. Sabemos que mínimo el 25% de ellos debe ir:"
   ]
  },
  {
   "cell_type": "code",
   "execution_count": 27,
   "metadata": {},
   "outputs": [
    {
     "name": "stdout",
     "output_type": "stream",
     "text": [
      "Mínimo 8436765.5 deben ir a votar al referendo\n"
     ]
    }
   ],
   "source": [
    "0.25*33747062\n",
    "print(\"Mínimo {} deben ir a votar al referendo\".format(0.25*33747062))"
   ]
  },
  {
   "cell_type": "markdown",
   "metadata": {},
   "source": [
    "    Luego, de esos 8'436.765,5 debe votar que sí el 50%:"
   ]
  },
  {
   "cell_type": "code",
   "execution_count": 28,
   "metadata": {},
   "outputs": [
    {
     "name": "stdout",
     "output_type": "stream",
     "text": [
      "Deben votar afirmativamente 4218382.75\n"
     ]
    }
   ],
   "source": [
    "8436765.5*0.5\n",
    "print(\"Deben votar afirmativamente {}\".format(8436765.5*0.5))"
   ]
  },
  {
   "cell_type": "markdown",
   "metadata": {},
   "source": [
    "    Así las cosas, 4'218.382,75 deben votar afirmativamente.\n",
    "\n",
    "2. Lo bueno de haber sacado el porcentaje del porcentaje es que podemos hacer un cálculo simple:"
   ]
  },
  {
   "cell_type": "code",
   "execution_count": 29,
   "metadata": {},
   "outputs": [
    {
     "name": "stdout",
     "output_type": "stream",
     "text": [
      "Deben votar afirmativamente 42168382.75\n"
     ]
    }
   ],
   "source": [
    "33747062*0,125 #se multiplica el censo electoral por el porcentaje de él que debe asistir y votar afirmativamente\n",
    "print(\"Deben votar afirmativamente {}\".format(337347062*0.125))"
   ]
  },
  {
   "cell_type": "markdown",
   "metadata": {},
   "source": [
    "Da el mismo resultado."
   ]
  },
  {
   "cell_type": "markdown",
   "metadata": {},
   "source": [
    "### Ejercicio 2"
   ]
  },
  {
   "cell_type": "markdown",
   "metadata": {},
   "source": [
    "En 2015 se realizó la Encuesta Nacional de Salud Mental, con una muestra de 16.147 personas de todo el país. Se encontró que 10 de cada 100 adultos de 18 a 44 años tienen algún problema que podría indicar el padecimiento de una enfermedad mental; lo mismo ocurre con 44 de cada 100 niños de 7 a 11 años [1].\n",
    "\n",
    "a) Si el grupo de adultos de 18 a 44 años representó el 36,47% de los encuestados, ¿qué porcentaje del total de encuestados representan los adultos insanos?, ¿cuántos adultos así se encontraron en el estudio? \n",
    "\n",
    "b) Si para el tiempo del estudio, el número de total de colombianos niños de 7 a 11 años en el país era de 4’244.985 ¿de cuántos niños con posible enfermedad mental podríamos estar hablando que existen en Colombia? \n",
    "\n",
    "c) ¿Usted argumentaría con estas cifras una campaña para que se visibilice esta situación, y se tomen medidas?\n",
    "\n",
    "[1]: http://www.eltiempo.com/estilo-de-vida/salud/salud-mental-en-colombia/16380783 https://www.minsalud.gov.co/sites/rid/Lists/BibliotecaDigital/RIDE/DE/presentacion-encuesta-nacional-salud-mental-2015.pdf"
   ]
  },
  {
   "cell_type": "markdown",
   "metadata": {},
   "source": [
    "#### Solución"
   ]
  },
  {
   "cell_type": "markdown",
   "metadata": {},
   "source": [
    "a) Ya que el grupo de adultos (18 a 44 años) es el 36,47% de los encuestados, y de ellos el 10 de cada 100 tienen algún problema que podría indicar problemas mentales, entonces el 10% (10 de cada 100) del 36,47% de los encuestados, son adultos insanos."
   ]
  },
  {
   "cell_type": "code",
   "execution_count": 30,
   "metadata": {},
   "outputs": [
    {
     "data": {
      "text/plain": [
       "0.03647"
      ]
     },
     "execution_count": 30,
     "metadata": {},
     "output_type": "execute_result"
    }
   ],
   "source": [
    "0.3647*0.1\n"
   ]
  },
  {
   "cell_type": "markdown",
   "metadata": {},
   "source": [
    "Si este número lo convertimos a porcentaje, es el 3,647% (compruébelo). Quiere decir que ese porcentaje de los encuestados fueron adultos insanos mentalmente."
   ]
  },
  {
   "cell_type": "markdown",
   "metadata": {},
   "source": [
    "b) Si, de acuerdo con la encuesta, se puede asumir que el 44% de los niños (44 de cada 100) podrían ser insanos, entonces podemos decir que de los 4'244.985 de niños que habían en el 2015, el 44% podrían tener problemas mentales."
   ]
  },
  {
   "cell_type": "code",
   "execution_count": 31,
   "metadata": {},
   "outputs": [
    {
     "data": {
      "text/plain": [
       "1867793.4"
      ]
     },
     "execution_count": 31,
     "metadata": {},
     "output_type": "execute_result"
    }
   ],
   "source": [
    "0.44*4244985"
   ]
  },
  {
   "cell_type": "markdown",
   "metadata": {},
   "source": [
    "Quiere decir que aproximadamente, en Colombia, para el 2015, 1'867.793.4 de niños entre 7 y 11 años tendrían indicadores de tener una enfermedad mental."
   ]
  },
  {
   "cell_type": "markdown",
   "metadata": {},
   "source": [
    "c) Ciertamente, estas cifras son alarmantes. Hay un gran estigma frente a las enfermedades mentales y las personas que las padecen. Antes de abordar un política pública para que la gente se haga revisar y así poder tener una mejor calidad de vida, primero hay que hablar de la educación de la gente frente a esta problemática. De esta manera, acallando los prejuicios con conocimiento, podremos hablar de forma más sincera sobre esta problemática."
   ]
  },
  {
   "cell_type": "code",
   "execution_count": null,
   "metadata": {},
   "outputs": [],
   "source": []
  }
 ],
 "metadata": {
  "kernelspec": {
   "display_name": "Python 3",
   "language": "python",
   "name": "python3"
  },
  "language_info": {
   "codemirror_mode": {
    "name": "ipython",
    "version": 3
   },
   "file_extension": ".py",
   "mimetype": "text/x-python",
   "name": "python",
   "nbconvert_exporter": "python",
   "pygments_lexer": "ipython3",
   "version": "3.7.3"
  },
  "latex_envs": {
   "LaTeX_envs_menu_present": true,
   "autoclose": false,
   "autocomplete": true,
   "bibliofile": "biblio.bib",
   "cite_by": "apalike",
   "current_citInitial": 1,
   "eqLabelWithNumbers": true,
   "eqNumInitial": 1,
   "hotkeys": {
    "equation": "Ctrl-E",
    "itemize": "Ctrl-I"
   },
   "labels_anchors": false,
   "latex_user_defs": false,
   "report_style_numbering": false,
   "user_envs_cfg": false
  },
  "toc": {
   "base_numbering": 1,
   "nav_menu": {},
   "number_sections": true,
   "sideBar": true,
   "skip_h1_title": false,
   "title_cell": "Table of Contents",
   "title_sidebar": "Contents",
   "toc_cell": false,
   "toc_position": {},
   "toc_section_display": true,
   "toc_window_display": true
  }
 },
 "nbformat": 4,
 "nbformat_minor": 2
}
